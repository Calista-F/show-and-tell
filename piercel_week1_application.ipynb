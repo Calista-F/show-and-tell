{
  "nbformat": 4,
  "nbformat_minor": 0,
  "metadata": {
    "colab": {
      "name": "piercel_week1_application.ipynb",
      "provenance": [],
      "collapsed_sections": [],
      "authorship_tag": "ABX9TyMSmdMNOw+2X6YhjYRCZkOg",
      "include_colab_link": true
    },
    "kernelspec": {
      "name": "python3",
      "display_name": "Python 3"
    }
  },
  "cells": [
    {
      "cell_type": "markdown",
      "metadata": {
        "id": "view-in-github",
        "colab_type": "text"
      },
      "source": [
        "<a href=\"https://colab.research.google.com/github/NIP-Data-Computation/show-and-tell/blob/master/piercel_week1_application.ipynb\" target=\"_parent\"><img src=\"https://colab.research.google.com/assets/colab-badge.svg\" alt=\"Open In Colab\"/></a>"
      ]
    },
    {
      "cell_type": "markdown",
      "metadata": {
        "id": "mAb7iTT0DPR7",
        "colab_type": "text"
      },
      "source": [
        "**Author**: Pierce Lopez <br>\n",
        "**Date Created**: August 10, 2020 <br>\n",
        "**Last Updated**: August 10, 2020 <br> \n",
        "**Description**: Contains some applications of Week 1 lessons on the Customs dataset. "
      ]
    },
    {
      "cell_type": "code",
      "metadata": {
        "id": "DZ2RWJOY1mUE",
        "colab_type": "code",
        "colab": {}
      },
      "source": [
        "# mount drive\n",
        "from google.colab import drive\n",
        "drive.mount(\"/content/drive\")"
      ],
      "execution_count": null,
      "outputs": []
    },
    {
      "cell_type": "markdown",
      "metadata": {
        "id": "ndq4d1ly2WkA",
        "colab_type": "text"
      },
      "source": [
        "*Manually added NIP-Data-Computation-Group-Drive shortcut to My Drive*\n"
      ]
    },
    {
      "cell_type": "code",
      "metadata": {
        "id": "HABAwSTa1vBL",
        "colab_type": "code",
        "colab": {
          "base_uri": "https://localhost:8080/",
          "height": 66
        },
        "outputId": "19445c85-caaf-4b5c-d168-cb606acdce2e"
      },
      "source": [
        "# check if the directories and files exist in My Drive\n",
        "!ls drive/My\\ Drive/NIP-Data-Computation-Group-Drive/Datasets/PHL\\ Customs\\ Open\\ Data/clean/csv"
      ],
      "execution_count": 7,
      "outputs": [
        {
          "output_type": "stream",
          "text": [
            "boc_lite_2012_2019_top9_hscode.csv  boc_lite_2014.csv  boc_lite_2017.csv\n",
            "boc_lite_2012.csv\t\t    boc_lite_2015.csv  boc_lite_2018.csv\n",
            "boc_lite_2013.csv\t\t    boc_lite_2016.csv  boc_lite_2019.csv\n"
          ],
          "name": "stdout"
        }
      ]
    },
    {
      "cell_type": "markdown",
      "metadata": {
        "id": "HmjVNm5z3LnB",
        "colab_type": "text"
      },
      "source": [
        "_Note: One can opt to change current work directory by using the shell command **%cd**!_ "
      ]
    },
    {
      "cell_type": "code",
      "metadata": {
        "id": "elwcyEbx3Ku6",
        "colab_type": "code",
        "colab": {
          "base_uri": "https://localhost:8080/",
          "height": 33
        },
        "outputId": "619b43f5-0278-4771-94aa-c76a06c864c1"
      },
      "source": [
        "%cd drive/My\\ Drive/NIP-Data-Computation-Group-Drive/Datasets/PHL\\ Customs\\ Open\\ Data/clean/csv"
      ],
      "execution_count": 8,
      "outputs": [
        {
          "output_type": "stream",
          "text": [
            "/content/drive/.shortcut-targets-by-id/1pfxnf06OodnUo3H4NgkxVN6pA2FI9hh_/NIP-Data-Computation-Group-Drive/Datasets/PHL Customs Open Data/clean/csv\n"
          ],
          "name": "stdout"
        }
      ]
    },
    {
      "cell_type": "markdown",
      "metadata": {
        "id": "ei5s_tHg5Big",
        "colab_type": "text"
      },
      "source": [
        "_Check location of current directory_"
      ]
    },
    {
      "cell_type": "code",
      "metadata": {
        "id": "TEcX4_eK4MPj",
        "colab_type": "code",
        "colab": {
          "base_uri": "https://localhost:8080/",
          "height": 34
        },
        "outputId": "6960f0fd-0a6d-4ff3-ba4d-afdeac7d3bed"
      },
      "source": [
        "%pwd"
      ],
      "execution_count": 10,
      "outputs": [
        {
          "output_type": "execute_result",
          "data": {
            "application/vnd.google.colaboratory.intrinsic+json": {
              "type": "string"
            },
            "text/plain": [
              "'/content/drive/.shortcut-targets-by-id/1pfxnf06OodnUo3H4NgkxVN6pA2FI9hh_/NIP-Data-Computation-Group-Drive/Datasets/PHL Customs Open Data/clean/csv'"
            ]
          },
          "metadata": {
            "tags": []
          },
          "execution_count": 10
        }
      ]
    },
    {
      "cell_type": "markdown",
      "metadata": {
        "id": "TQJf_RpeFSFl",
        "colab_type": "text"
      },
      "source": [
        "## Plans to do:\n",
        "\n",
        "1. Import modules\n",
        "2. Read a .csv file\n",
        "3. Know information regarding a dataset (i.e. columns, row values)\n",
        "4. Select columns\n",
        "5. Filter rows using logic\n",
        "6. Filter columns using logic\n",
        "7. Read several .csv files using a `for` loop\n",
        "8. Collect certain data from each .csv file and store it in a new DataFrame\n",
        "9. Plot the collected data"
      ]
    },
    {
      "cell_type": "markdown",
      "metadata": {
        "id": "AYmEJrOUM22K",
        "colab_type": "text"
      },
      "source": [
        "_1. Import modules_"
      ]
    },
    {
      "cell_type": "code",
      "metadata": {
        "id": "Q3FrI5OM5Lm4",
        "colab_type": "code",
        "colab": {}
      },
      "source": [
        "import numpy as np\n",
        "import matplotlib.pyplot as plt\n",
        "import pandas as pd\n",
        "import gc"
      ],
      "execution_count": 32,
      "outputs": []
    },
    {
      "cell_type": "markdown",
      "metadata": {
        "id": "j8kDlsiD9tZY",
        "colab_type": "text"
      },
      "source": [
        "_2. Read a .csv file_"
      ]
    },
    {
      "cell_type": "code",
      "metadata": {
        "id": "7ykfM2sjN3ZO",
        "colab_type": "code",
        "colab": {}
      },
      "source": [
        "# store data in a pandas DataFrame\n",
        "df = pd.read_csv('boc_lite_2014.csv', encoding = \"ISO-8859-1\")"
      ],
      "execution_count": null,
      "outputs": []
    },
    {
      "cell_type": "markdown",
      "metadata": {
        "id": "BDmoTpDdPD--",
        "colab_type": "text"
      },
      "source": [
        "_3. Know information regarding a dataset (i.e. columns, row values)_"
      ]
    },
    {
      "cell_type": "code",
      "metadata": {
        "id": "HbCgM5_LPPAS",
        "colab_type": "code",
        "colab": {}
      },
      "source": [
        "# display information about the DataFrame\n",
        "print(df.info())\n",
        "\n",
        "# display first few rows of the DataFrame\n",
        "print(df.head())"
      ],
      "execution_count": null,
      "outputs": []
    },
    {
      "cell_type": "markdown",
      "metadata": {
        "id": "j82-GgG1Pkt0",
        "colab_type": "text"
      },
      "source": [
        "_4. Select columns_"
      ]
    },
    {
      "cell_type": "code",
      "metadata": {
        "id": "8Upu6L0JPlg0",
        "colab_type": "code",
        "colab": {}
      },
      "source": [
        "exc_rate = df[['countryorigin_iso3', 'exchangerate']]\n",
        "print(exc_rate)"
      ],
      "execution_count": null,
      "outputs": []
    },
    {
      "cell_type": "markdown",
      "metadata": {
        "id": "oDUY3ANdPlxc",
        "colab_type": "text"
      },
      "source": [
        "_5. Filter rows using logic_"
      ]
    },
    {
      "cell_type": "code",
      "metadata": {
        "id": "Mbh5EB4YPl5d",
        "colab_type": "code",
        "colab": {}
      },
      "source": [
        "filter = df['countryorigin_iso3'] == 'NZL'"
      ],
      "execution_count": null,
      "outputs": []
    },
    {
      "cell_type": "markdown",
      "metadata": {
        "id": "5D2J4V0NPmB1",
        "colab_type": "text"
      },
      "source": [
        "_6. Filter columns using logic_"
      ]
    },
    {
      "cell_type": "code",
      "metadata": {
        "id": "Erm10jZ1PmJm",
        "colab_type": "code",
        "colab": {}
      },
      "source": [
        "exc_rate_nzl = df[filter][['exchangerate']]\n",
        "print(exc_rate_nzl)"
      ],
      "execution_count": null,
      "outputs": []
    },
    {
      "cell_type": "markdown",
      "metadata": {
        "id": "3yVx4Qu1Pmfu",
        "colab_type": "text"
      },
      "source": [
        "_7. Read several .csv files using a `for` loop_ <br>\n",
        "_8. Collect certain data from each .csv file and store it in a new DataFrame_"
      ]
    },
    {
      "cell_type": "code",
      "metadata": {
        "id": "rGtmYkRVPmoN",
        "colab_type": "code",
        "colab": {
          "base_uri": "https://localhost:8080/",
          "height": 286
        },
        "outputId": "754739f9-daa5-4407-a6a2-c61ce0f396cc"
      },
      "source": [
        "# initialize\n",
        "import_list_nzl = []\n",
        "import_list_aus = []\n",
        "import_list_chn = []\n",
        "year_list = []\n",
        "\n",
        "for i in range(2,10) :\n",
        "  # store unique filenames\n",
        "  filename = 'boc_lite_201' + str(i) + '.csv'\n",
        "\n",
        "  # read csv files\n",
        "  df = pd.read_csv(filename, encoding = \"ISO-8859-1\", index_col = False)\n",
        "\n",
        "  # filter rows\n",
        "  filter_nzl = df['countryorigin_iso3'] == 'NZL'\n",
        "  filter_aus = df['countryorigin_iso3'] == 'AUS'\n",
        "  filter_chn = df['countryorigin_iso3'] == 'CHN'\n",
        "\n",
        "  # select column using filter\n",
        "  import_nzl = df[filter_nzl][['countryorigin_iso3']]\n",
        "  import_aus = df[filter_aus][['countryorigin_iso3']]\n",
        "  import_chn = df[filter_chn][['countryorigin_iso3']]\n",
        "\n",
        "  import_count_nzl = import_nzl.shape[0]\n",
        "  import_count_aus = import_aus.shape[0]\n",
        "  import_count_chn = import_chn.shape[0]\n",
        "\n",
        "  # append value to list\n",
        "  import_list_nzl.append(import_count_nzl)\n",
        "  import_list_aus.append(import_count_aus)\n",
        "  import_list_chn.append(import_count_chn)\n",
        "  year_list.append(2010 + i)\n",
        "\n",
        "  # clear RAM\n",
        "  gc.collect()\n",
        "\n",
        "# generate DataFrame\n",
        "dat = pd.DataFrame({'import_nzl':import_list_nzl, 'import_aus':import_list_aus, \n",
        "                    'import_chn':import_list_chn, 'year':year_list})\n",
        "\n",
        "# display DataFrame\n",
        "print(dat)"
      ],
      "execution_count": 150,
      "outputs": [
        {
          "output_type": "stream",
          "text": [
            "/usr/local/lib/python3.6/dist-packages/IPython/core/interactiveshell.py:2718: DtypeWarning: Columns (4,28,29) have mixed types.Specify dtype option on import or set low_memory=False.\n",
            "  interactivity=interactivity, compiler=compiler, result=result)\n",
            "/usr/local/lib/python3.6/dist-packages/IPython/core/interactiveshell.py:2718: DtypeWarning: Columns (4,25,28,29) have mixed types.Specify dtype option on import or set low_memory=False.\n",
            "  interactivity=interactivity, compiler=compiler, result=result)\n",
            "/usr/local/lib/python3.6/dist-packages/IPython/core/interactiveshell.py:2718: DtypeWarning: Columns (25) have mixed types.Specify dtype option on import or set low_memory=False.\n",
            "  interactivity=interactivity, compiler=compiler, result=result)\n"
          ],
          "name": "stderr"
        },
        {
          "output_type": "stream",
          "text": [
            "   import_nzl  import_aus  import_chn  year\n",
            "0        4886       18043      327575  2012\n",
            "1        5264       17742      349020  2013\n",
            "2        5313       20483      447574  2014\n",
            "3        5598       22107      589626  2015\n",
            "4        6096       27383      812537  2016\n",
            "5        6269       28355      943549  2017\n",
            "6        6041       27937     1038995  2018\n",
            "7        5950       28081     1055807  2019\n"
          ],
          "name": "stdout"
        }
      ]
    },
    {
      "cell_type": "markdown",
      "metadata": {
        "id": "rt48g0HTh8JN",
        "colab_type": "text"
      },
      "source": [
        "_10. Plot the collected data_"
      ]
    },
    {
      "cell_type": "code",
      "metadata": {
        "id": "HaD5Z8mA8Y8K",
        "colab_type": "code",
        "colab": {
          "base_uri": "https://localhost:8080/",
          "height": 581
        },
        "outputId": "70756d37-f63d-4595-b8de-8dd74d636986"
      },
      "source": [
        "# generate separate plot\n",
        "plt.plot(dat['year'], dat['import_chn'], color = 'green')\n",
        "\n",
        "# add labels\n",
        "plt.title('Import Frequency from China during 2012 to 2019')\n",
        "plt.xlabel('Year')\n",
        "plt.ylabel('Import Frequency')\n",
        "\n",
        "# change y-axis ticks\n",
        "plt.yticks([300000, 400000, 500000, 600000, 700000, 800000, 900000, 1000000], \n",
        "           ['0.3M', '0.4M', '0.5M', '0.6M', '0.7M', '0.8M', '0.9M', '1M', ])\n",
        "\n",
        "# display plot\n",
        "plt.show()\n",
        "\n",
        "# select plot style\n",
        "plt.style.use('ggplot')\n",
        "\n",
        "# generate line plots (on one plane)\n",
        "plt.plot(dat['year'], dat['import_nzl'], label = 'New Zealand', color = 'red')\n",
        "plt.plot(dat['year'], dat['import_aus'], label = 'Australia', color = 'blue')\n",
        "\n",
        "# add labels\n",
        "plt.title('Import Frequency from Countries during 2012 to 2019')\n",
        "plt.xlabel('Year')\n",
        "plt.ylabel('Import Frequency')\n",
        "plt.legend()\n",
        "\n",
        "# display plots\n",
        "plt.show()"
      ],
      "execution_count": 158,
      "outputs": [
        {
          "output_type": "display_data",
          "data": {
            "image/png": "[encoded data removed]",
            "text/plain": [
              "<Figure size 432x288 with 1 Axes>"
            ]
          },
          "metadata": {
            "tags": []
          }
        },
        {
          "output_type": "display_data",
          "data": {
            "image/png": "[encoded data removed]",
            "text/plain": [
              "<Figure size 432x288 with 1 Axes>"
            ]
          },
          "metadata": {
            "tags": []
          }
        }
      ]
    }
  ]
}