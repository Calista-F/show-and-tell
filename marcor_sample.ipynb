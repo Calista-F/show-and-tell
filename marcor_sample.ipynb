{
  "nbformat": 4,
  "nbformat_minor": 0,
  "metadata": {
    "colab": {
      "name": "marcor_sample.ipynb",
      "provenance": [],
      "authorship_tag": "ABX9TyNCVR4mXOGkalZkfsxf2P49",
      "include_colab_link": true
    },
    "kernelspec": {
      "name": "python3",
      "display_name": "Python 3"
    }
  },
  "cells": [
    {
      "cell_type": "markdown",
      "metadata": {
        "id": "view-in-github",
        "colab_type": "text"
      },
      "source": [
        "<a href=\"https://colab.research.google.com/github/NIP-Data-Computation/show-and-tell/blob/master/marcor_sample.ipynb\" target=\"_parent\"><img src=\"https://colab.research.google.com/assets/colab-badge.svg\" alt=\"Open In Colab\"/></a>"
      ]
    },
    {
      "cell_type": "markdown",
      "metadata": {
        "id": "Ykbq6oKzEEjr",
        "colab_type": "text"
      },
      "source": [
        "# Heading"
      ]
    },
    {
      "cell_type": "code",
      "metadata": {
        "id": "8eKy5IjtDyYp",
        "colab_type": "code",
        "colab": {
          "base_uri": "https://localhost:8080/",
          "height": 34
        },
        "outputId": "c7f94dee-d3d2-4daa-e59c-f5e27d8c1578"
      },
      "source": [
        "def fxn(a,b,c):\n",
        "  return a*b+c\n",
        "\n",
        "fxn(1,2,3)"
      ],
      "execution_count": 1,
      "outputs": [
        {
          "output_type": "execute_result",
          "data": {
            "text/plain": [
              "5"
            ]
          },
          "metadata": {
            "tags": []
          },
          "execution_count": 1
        }
      ]
    }
  ]
}