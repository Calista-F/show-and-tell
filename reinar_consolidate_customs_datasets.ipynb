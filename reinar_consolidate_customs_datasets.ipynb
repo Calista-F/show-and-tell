{
  "nbformat": 4,
  "nbformat_minor": 0,
  "metadata": {
    "colab": {
      "name": "reinar_consolidate_customs_datasets.ipynb",
      "provenance": [],
      "authorship_tag": "ABX9TyPW0TLhmb/TSu9vcmegnKb7",
      "include_colab_link": true
    },
    "kernelspec": {
      "name": "python3",
      "display_name": "Python 3"
    }
  },
  "cells": [
    {
      "cell_type": "markdown",
      "metadata": {
        "id": "view-in-github",
        "colab_type": "text"
      },
      "source": [
        "<a href=\"https://colab.research.google.com/github/NIP-Data-Computation/show-and-tell/blob/master/reinar_consolidate_customs_datasets.ipynb\" target=\"_parent\"><img src=\"https://colab.research.google.com/assets/colab-badge.svg\" alt=\"Open In Colab\"/></a>"
      ]
    },
    {
      "cell_type": "markdown",
      "metadata": {
        "id": "Am0SRe82wvoF",
        "colab_type": "text"
      },
      "source": [
        "This notebook consolidates the customs annual datasets into a single dataset.\n",
        "\n",
        "**Author**: Reina Reyes <br>\n",
        "**Date**: August 1, 2020 <br> \n",
        "**Description**: Consolidates data from 8 files (**boc_lite_YYYY.csv** *from 2012 to 2019*) into 1 file (**boc_lite_2012-2019.csv**). All files are in the shared Google Drive: *NIP-Data-Computation-Group-Drive > Datasets > PHL Customs Open Data > clean > csv*. "
      ]
    },
    {
      "cell_type": "markdown",
      "metadata": {
        "id": "k3JV8aJ0yqLW",
        "colab_type": "text"
      },
      "source": [
        "# Mount Google Drive and load input files"
      ]
    },
    {
      "cell_type": "markdown",
      "metadata": {
        "id": "L51quW8DvRFj",
        "colab_type": "text"
      },
      "source": [
        "*Mount Google Drive*"
      ]
    },
    {
      "cell_type": "code",
      "metadata": {
        "id": "QCE3aBl4yh3r",
        "colab_type": "code",
        "colab": {
          "base_uri": "https://localhost:8080/",
          "height": 122
        },
        "outputId": "b1957615-452f-48a7-a204-ba9c3344de13"
      },
      "source": [
        "from google.colab import drive\n",
        "drive.mount(\"/content/drive\")"
      ],
      "execution_count": 6,
      "outputs": [
        {
          "output_type": "stream",
          "text": [
            "Go to this URL in a browser: https://accounts.google.com/o/oauth2/auth?client_id=947318989803-6bn6qk8qdgf4n4g3pfee6491hc0brc4i.apps.googleusercontent.com&redirect_uri=urn%3aietf%3awg%3aoauth%3a2.0%3aoob&response_type=code&scope=email%20https%3a%2f%2fwww.googleapis.com%2fauth%2fdocs.test%20https%3a%2f%2fwww.googleapis.com%2fauth%2fdrive%20https%3a%2f%2fwww.googleapis.com%2fauth%2fdrive.photos.readonly%20https%3a%2f%2fwww.googleapis.com%2fauth%2fpeopleapi.readonly\n",
            "\n",
            "Enter your authorization code:\n",
            "··········\n",
            "Mounted at /content/drive\n"
          ],
          "name": "stdout"
        }
      ]
    },
    {
      "cell_type": "markdown",
      "metadata": {
        "id": "--A0B4OuQBeU",
        "colab_type": "text"
      },
      "source": [
        "*Test if mount is successful*\n"
      ]
    },
    {
      "cell_type": "code",
      "metadata": {
        "id": "ePADeRDy1aqy",
        "colab_type": "code",
        "colab": {
          "base_uri": "https://localhost:8080/",
          "height": 51
        },
        "outputId": "27e85192-c8ee-407f-d906-a8124f8bc0c5"
      },
      "source": [
        "!ls drive/My\\ Drive"
      ],
      "execution_count": 37,
      "outputs": [
        {
          "output_type": "stream",
          "text": [
            " Application  'Colab Notebooks'   Misc\t     Teaching\n",
            " CBT\t       Engagements\t  Research\n"
          ],
          "name": "stdout"
        }
      ]
    },
    {
      "cell_type": "markdown",
      "metadata": {
        "id": "ZX4vImPoy4EK",
        "colab_type": "text"
      },
      "source": [
        "*Define directory path of input and output files*"
      ]
    },
    {
      "cell_type": "code",
      "metadata": {
        "id": "5Hlo-RGIzHaB",
        "colab_type": "code",
        "colab": {}
      },
      "source": [
        "fn_dir = \"/content/drive/My Drive/Research/NIP-Data-Computation/NIP-Data-Computation-Group-Drive/Datasets/PHL Customs Open Data/clean/csv/\""
      ],
      "execution_count": 24,
      "outputs": []
    },
    {
      "cell_type": "markdown",
      "metadata": {
        "id": "dd_W-hSf0PSD",
        "colab_type": "text"
      },
      "source": [
        "*Import libraries*"
      ]
    },
    {
      "cell_type": "code",
      "metadata": {
        "id": "ajlqWmZP0FeG",
        "colab_type": "code",
        "colab": {}
      },
      "source": [
        "import pandas as pd\n",
        "import numpy as np"
      ],
      "execution_count": 10,
      "outputs": []
    },
    {
      "cell_type": "markdown",
      "metadata": {
        "id": "VAlj6-Wu0Xxe",
        "colab_type": "text"
      },
      "source": [
        "*Loop over input files and append to output dataframe*"
      ]
    },
    {
      "cell_type": "code",
      "metadata": {
        "id": "1xeQJgfE0R_p",
        "colab_type": "code",
        "colab": {
          "base_uri": "https://localhost:8080/",
          "height": 275
        },
        "outputId": "4f36d3e6-6fa0-483f-f0da-6fa8990e8090"
      },
      "source": [
        "start_year = 2012\n",
        "n_year = 8\n",
        "\n",
        "# Initialize empty output dataframe\n",
        "df_out = pd.DataFrame()\n",
        "\n",
        "for i in np.arange(n_year):\n",
        "    fn_i = fn_dir + \"boc_lite_%d.csv\" % (start_year + i)\n",
        "    df_i = pd.read_csv(fn_i, encoding = \"ISO-8859-1\")    # Specified encoding is required to avoid UnicodeError in Colab\n",
        "    df_out = pd.concat([df, df_i]) \n",
        "    print(\"Read %d lines for year %d\" % (len(df_i), start_year+i))"
      ],
      "execution_count": 35,
      "outputs": [
        {
          "output_type": "stream",
          "text": [
            "Read 1193628 lines for year 2012\n",
            "Read 1225431 lines for year 2013\n"
          ],
          "name": "stdout"
        },
        {
          "output_type": "stream",
          "text": [
            "/usr/local/lib/python3.6/dist-packages/IPython/core/interactiveshell.py:2718: DtypeWarning: Columns (4,28,29) have mixed types.Specify dtype option on import or set low_memory=False.\n",
            "  interactivity=interactivity, compiler=compiler, result=result)\n"
          ],
          "name": "stderr"
        },
        {
          "output_type": "stream",
          "text": [
            "Read 1421241 lines for year 2014\n"
          ],
          "name": "stdout"
        },
        {
          "output_type": "stream",
          "text": [
            "/usr/local/lib/python3.6/dist-packages/IPython/core/interactiveshell.py:2718: DtypeWarning: Columns (4,25,28,29) have mixed types.Specify dtype option on import or set low_memory=False.\n",
            "  interactivity=interactivity, compiler=compiler, result=result)\n"
          ],
          "name": "stderr"
        },
        {
          "output_type": "stream",
          "text": [
            "Read 2236612 lines for year 2015\n"
          ],
          "name": "stdout"
        },
        {
          "output_type": "stream",
          "text": [
            "/usr/local/lib/python3.6/dist-packages/IPython/core/interactiveshell.py:2718: DtypeWarning: Columns (25) have mixed types.Specify dtype option on import or set low_memory=False.\n",
            "  interactivity=interactivity, compiler=compiler, result=result)\n"
          ],
          "name": "stderr"
        },
        {
          "output_type": "stream",
          "text": [
            "Read 3140436 lines for year 2016\n",
            "Read 3490131 lines for year 2017\n",
            "Read 3753118 lines for year 2018\n",
            "Read 3794763 lines for year 2019\n"
          ],
          "name": "stdout"
        }
      ]
    },
    {
      "cell_type": "code",
      "metadata": {
        "id": "AtETY5r930_l",
        "colab_type": "code",
        "colab": {
          "base_uri": "https://localhost:8080/",
          "height": 34
        },
        "outputId": "0c4a0287-7286-4e52-ad12-e9d6ffd4a213"
      },
      "source": [
        "len(df_out) # print total no. of rows in output dataframe"
      ],
      "execution_count": 38,
      "outputs": [
        {
          "output_type": "execute_result",
          "data": {
            "text/plain": [
              "4988391"
            ]
          },
          "metadata": {
            "tags": []
          },
          "execution_count": 38
        }
      ]
    },
    {
      "cell_type": "markdown",
      "metadata": {
        "id": "RDv9FwQu9zMb",
        "colab_type": "text"
      },
      "source": [
        "# Save and test output file\n"
      ]
    },
    {
      "cell_type": "markdown",
      "metadata": {
        "id": "OEfTIFDa7xBq",
        "colab_type": "text"
      },
      "source": [
        "*Save output dataframe to CSV file (also in Google Drive)*"
      ]
    },
    {
      "cell_type": "code",
      "metadata": {
        "id": "5YuyZV3232AW",
        "colab_type": "code",
        "colab": {}
      },
      "source": [
        "fn_out = fn_dir + \"boc_lite_2012-2019.csv\"\n",
        "df_out.to_csv(fn_out)"
      ],
      "execution_count": 39,
      "outputs": []
    },
    {
      "cell_type": "markdown",
      "metadata": {
        "id": "OcQ7lISJ94xf",
        "colab_type": "text"
      },
      "source": [
        "*Test and time loading of consolidated file*"
      ]
    },
    {
      "cell_type": "code",
      "metadata": {
        "id": "t5asQ70G99Y2",
        "colab_type": "code",
        "colab": {
          "base_uri": "https://localhost:8080/",
          "height": 68
        },
        "outputId": "646091f3-2301-4933-837f-551394ee4ce3"
      },
      "source": [
        "%time df = pd.read_csv(fn_out)"
      ],
      "execution_count": 40,
      "outputs": [
        {
          "output_type": "stream",
          "text": [
            "<string>:2: DtypeWarning: Columns (4,5,26) have mixed types.Specify dtype option on import or set low_memory=False.\n"
          ],
          "name": "stderr"
        },
        {
          "output_type": "stream",
          "text": [
            "CPU times: user 21.1 s, sys: 3.65 s, total: 24.7 s\n",
            "Wall time: 26.7 s\n"
          ],
          "name": "stdout"
        }
      ]
    },
    {
      "cell_type": "code",
      "metadata": {
        "id": "26HLNNpp-RYL",
        "colab_type": "code",
        "colab": {}
      },
      "source": [
        ""
      ],
      "execution_count": null,
      "outputs": []
    }
  ]
}