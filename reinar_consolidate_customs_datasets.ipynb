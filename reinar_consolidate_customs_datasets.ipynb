{
  "nbformat": 4,
  "nbformat_minor": 0,
  "metadata": {
    "colab": {
      "name": "reinar_consolidate_customs_datasets.ipynb",
      "provenance": [],
      "collapsed_sections": [],
      "authorship_tag": "ABX9TyOOXtIQDe/qJsOlrSBdz8hG",
      "include_colab_link": true
    },
    "kernelspec": {
      "name": "python3",
      "display_name": "Python 3"
    }
  },
  "cells": [
    {
      "cell_type": "markdown",
      "metadata": {
        "id": "view-in-github",
        "colab_type": "text"
      },
      "source": [
        "<a href=\"https://colab.research.google.com/github/NIP-Data-Computation/show-and-tell/blob/master/reinar_consolidate_customs_datasets.ipynb\" target=\"_parent\"><img src=\"https://colab.research.google.com/assets/colab-badge.svg\" alt=\"Open In Colab\"/></a>"
      ]
    },
    {
      "cell_type": "markdown",
      "metadata": {
        "id": "Am0SRe82wvoF",
        "colab_type": "text"
      },
      "source": [
        "This notebook generates a consolidated customs dataset with import data from 2012 to 2019 filtered to only the top 9 HS codes. \n",
        "\n",
        "**Author**: Reina Reyes <br>\n",
        "**Date Created**: August 1, 2020 <br>\n",
        "**Last Updated**: August 3, 2020 <br> \n",
        "**Description**: Consolidates import data from 8 files (**boc_lite_YYYY.csv** *from 2012 to 2019*) filtered to top 9 HS codes. Dataset is saved to output file (**boc_lite_2012_2019_top9_hscode.csv**). All files are in the shared Google Drive: *NIP-Data-Computation-Group-Drive > Datasets > PHL Customs Open Data > clean > csv*. "
      ]
    },
    {
      "cell_type": "markdown",
      "metadata": {
        "id": "k3JV8aJ0yqLW",
        "colab_type": "text"
      },
      "source": [
        "# Mount Google Drive and load input files"
      ]
    },
    {
      "cell_type": "markdown",
      "metadata": {
        "id": "L51quW8DvRFj",
        "colab_type": "text"
      },
      "source": [
        "*Mount Google Drive*"
      ]
    },
    {
      "cell_type": "code",
      "metadata": {
        "id": "QCE3aBl4yh3r",
        "colab_type": "code",
        "colab": {
          "base_uri": "https://localhost:8080/",
          "height": 34
        },
        "outputId": "7bd50a7f-94ab-423e-d0d9-eba7af144c22"
      },
      "source": [
        "from google.colab import drive\n",
        "drive.mount(\"/content/drive\")"
      ],
      "execution_count": 1,
      "outputs": [
        {
          "output_type": "stream",
          "text": [
            "Drive already mounted at /content/drive; to attempt to forcibly remount, call drive.mount(\"/content/drive\", force_remount=True).\n"
          ],
          "name": "stdout"
        }
      ]
    },
    {
      "cell_type": "markdown",
      "metadata": {
        "id": "--A0B4OuQBeU",
        "colab_type": "text"
      },
      "source": [
        "*Test if mount is successful*\n"
      ]
    },
    {
      "cell_type": "code",
      "metadata": {
        "id": "ePADeRDy1aqy",
        "colab_type": "code",
        "colab": {
          "base_uri": "https://localhost:8080/",
          "height": 51
        },
        "outputId": "d603857e-8eac-49b7-a99c-0cd5746770e1"
      },
      "source": [
        "!ls drive/My\\ Drive"
      ],
      "execution_count": 2,
      "outputs": [
        {
          "output_type": "stream",
          "text": [
            " Application  'Colab Notebooks'   Misc\t     Teaching\n",
            " CBT\t       Engagements\t  Research\n"
          ],
          "name": "stdout"
        }
      ]
    },
    {
      "cell_type": "markdown",
      "metadata": {
        "id": "ZX4vImPoy4EK",
        "colab_type": "text"
      },
      "source": [
        "*Define directory path of input and output files*"
      ]
    },
    {
      "cell_type": "code",
      "metadata": {
        "id": "5Hlo-RGIzHaB",
        "colab_type": "code",
        "colab": {}
      },
      "source": [
        "fn_dir = \"/content/drive/My Drive/Research/NIP-Data-Computation/NIP-Data-Computation-Group-Drive/Datasets/PHL Customs Open Data/clean/csv/\""
      ],
      "execution_count": 3,
      "outputs": []
    },
    {
      "cell_type": "markdown",
      "metadata": {
        "id": "dd_W-hSf0PSD",
        "colab_type": "text"
      },
      "source": [
        "*Import libraries*"
      ]
    },
    {
      "cell_type": "code",
      "metadata": {
        "id": "ajlqWmZP0FeG",
        "colab_type": "code",
        "colab": {}
      },
      "source": [
        "import pandas as pd\n",
        "import numpy as np\n",
        "import gc"
      ],
      "execution_count": 4,
      "outputs": []
    },
    {
      "cell_type": "markdown",
      "metadata": {
        "id": "VAlj6-Wu0Xxe",
        "colab_type": "text"
      },
      "source": [
        "*Loop over input files and filter to top HS codes*\n",
        "\n",
        "We do this in 2 batches to not exceed the memory allocation of Colab:"
      ]
    },
    {
      "cell_type": "code",
      "metadata": {
        "id": "1xeQJgfE0R_p",
        "colab_type": "code",
        "colab": {
          "base_uri": "https://localhost:8080/",
          "height": 173
        },
        "outputId": "7eb34233-2fa6-4467-86e6-9d58430e2441"
      },
      "source": [
        "start_year = 2012\n",
        "n_year = 8\n",
        "n_batch = 4\n",
        "hscodes = [84733090000, 84799040000, 85429000000, 85415000000, 73269099000,\n",
        "            84799030000, 85411000000, 64059000000, 40169390000]\n",
        "\n",
        "# Initialize empty output dataframe\n",
        "df_out = pd.DataFrame()\n",
        "\n",
        "for i in np.arange(n_batch):\n",
        "    fn_i = fn_dir + \"boc_lite_%d.csv\" % (start_year + i)\n",
        "    df_i = pd.read_csv(fn_i, encoding = \"ISO-8859-1\")    # Specified encoding is required to avoid UnicodeError in Colab\n",
        "    df_i_hs = df_i[df_i[\"hscode\"].isin(hscodes)]\n",
        "    df_out = pd.concat([df_out, df_i_hs]) \n",
        "    print(\"Read %d rows for year %d; filtered rows: %d; total rows: %d\" % (len(df_i), start_year + i, len(df_i_hs), len(df_out)))"
      ],
      "execution_count": 5,
      "outputs": [
        {
          "output_type": "stream",
          "text": [
            "Read 1193628 rows for year 2012; filtered rows: 24498; total rows: 24498\n",
            "Read 1225431 rows for year 2013; filtered rows: 28766; total rows: 53264\n"
          ],
          "name": "stdout"
        },
        {
          "output_type": "stream",
          "text": [
            "/usr/local/lib/python3.6/dist-packages/IPython/core/interactiveshell.py:2718: DtypeWarning: Columns (4,28,29) have mixed types.Specify dtype option on import or set low_memory=False.\n",
            "  interactivity=interactivity, compiler=compiler, result=result)\n"
          ],
          "name": "stderr"
        },
        {
          "output_type": "stream",
          "text": [
            "Read 1421241 rows for year 2014; filtered rows: 32550; total rows: 85814\n"
          ],
          "name": "stdout"
        },
        {
          "output_type": "stream",
          "text": [
            "/usr/local/lib/python3.6/dist-packages/IPython/core/interactiveshell.py:2718: DtypeWarning: Columns (4,25,28,29) have mixed types.Specify dtype option on import or set low_memory=False.\n",
            "  interactivity=interactivity, compiler=compiler, result=result)\n"
          ],
          "name": "stderr"
        },
        {
          "output_type": "stream",
          "text": [
            "Read 2236612 rows for year 2015; filtered rows: 132110; total rows: 217924\n"
          ],
          "name": "stdout"
        }
      ]
    },
    {
      "cell_type": "markdown",
      "metadata": {
        "id": "A3WWJWiWNTnY",
        "colab_type": "text"
      },
      "source": [
        "*Clear RAM*"
      ]
    },
    {
      "cell_type": "code",
      "metadata": {
        "id": "O0rQdrNfKwiK",
        "colab_type": "code",
        "colab": {
          "base_uri": "https://localhost:8080/",
          "height": 34
        },
        "outputId": "25769f73-362f-4459-d19b-51738740b854"
      },
      "source": [
        "gc.collect()"
      ],
      "execution_count": 6,
      "outputs": [
        {
          "output_type": "execute_result",
          "data": {
            "text/plain": [
              "11"
            ]
          },
          "metadata": {
            "tags": []
          },
          "execution_count": 6
        }
      ]
    },
    {
      "cell_type": "code",
      "metadata": {
        "id": "MDa5f01cHZjU",
        "colab_type": "code",
        "colab": {
          "base_uri": "https://localhost:8080/",
          "height": 173
        },
        "outputId": "e556304b-3d8e-4813-db16-243ce22c6317"
      },
      "source": [
        "for i in np.arange(n_year - n_batch) + n_batch:\n",
        "    fn_i = fn_dir + \"boc_lite_%d.csv\" % (start_year + i)\n",
        "    df_i = pd.read_csv(fn_i, encoding = \"ISO-8859-1\")    # Specified encoding is required to avoid UnicodeError in Colab\n",
        "    df_i_hs = df_i[df_i[\"hscode\"].isin(hscodes)]\n",
        "    df_out = pd.concat([df_out, df_i_hs]) \n",
        "    print(\"Read %d rows for year %d; filtered rows: %d; total rows: %d\" % (len(df_i), start_year + i, len(df_i_hs), len(df_out)))"
      ],
      "execution_count": 7,
      "outputs": [
        {
          "output_type": "stream",
          "text": [
            "/usr/local/lib/python3.6/dist-packages/IPython/core/interactiveshell.py:2718: DtypeWarning: Columns (25) have mixed types.Specify dtype option on import or set low_memory=False.\n",
            "  interactivity=interactivity, compiler=compiler, result=result)\n"
          ],
          "name": "stderr"
        },
        {
          "output_type": "stream",
          "text": [
            "Read 3140436 rows for year 2016; filtered rows: 232092; total rows: 450016\n"
          ],
          "name": "stdout"
        },
        {
          "output_type": "stream",
          "text": [
            "/usr/local/lib/python3.6/dist-packages/IPython/core/interactiveshell.py:2718: DtypeWarning: Columns (4,25,28,29) have mixed types.Specify dtype option on import or set low_memory=False.\n",
            "  interactivity=interactivity, compiler=compiler, result=result)\n"
          ],
          "name": "stderr"
        },
        {
          "output_type": "stream",
          "text": [
            "Read 3490131 rows for year 2017; filtered rows: 240926; total rows: 690942\n",
            "Read 3753118 rows for year 2018; filtered rows: 260909; total rows: 951851\n",
            "Read 3794763 rows for year 2019; filtered rows: 239027; total rows: 1190878\n"
          ],
          "name": "stdout"
        }
      ]
    },
    {
      "cell_type": "code",
      "metadata": {
        "id": "0G4kwh2fMN4l",
        "colab_type": "code",
        "colab": {
          "base_uri": "https://localhost:8080/",
          "height": 34
        },
        "outputId": "d9641292-f690-4484-c194-da301c4728b7"
      },
      "source": [
        "gc.collect()"
      ],
      "execution_count": 8,
      "outputs": [
        {
          "output_type": "execute_result",
          "data": {
            "text/plain": [
              "0"
            ]
          },
          "metadata": {
            "tags": []
          },
          "execution_count": 8
        }
      ]
    },
    {
      "cell_type": "markdown",
      "metadata": {
        "id": "Tir9EejTHt6S",
        "colab_type": "text"
      },
      "source": [
        "*Check total no. of rows in output dataframe*\n"
      ]
    },
    {
      "cell_type": "code",
      "metadata": {
        "id": "AtETY5r930_l",
        "colab_type": "code",
        "colab": {
          "base_uri": "https://localhost:8080/",
          "height": 34
        },
        "outputId": "5900579a-56b2-45f7-f728-e71df9cd2a39"
      },
      "source": [
        "len(df_out) "
      ],
      "execution_count": 9,
      "outputs": [
        {
          "output_type": "execute_result",
          "data": {
            "text/plain": [
              "1190878"
            ]
          },
          "metadata": {
            "tags": []
          },
          "execution_count": 9
        }
      ]
    },
    {
      "cell_type": "markdown",
      "metadata": {
        "id": "RDv9FwQu9zMb",
        "colab_type": "text"
      },
      "source": [
        "# Save and test output file\n"
      ]
    },
    {
      "cell_type": "markdown",
      "metadata": {
        "id": "OEfTIFDa7xBq",
        "colab_type": "text"
      },
      "source": [
        "*Save output dataframe to CSV file (also in Google Drive)*"
      ]
    },
    {
      "cell_type": "code",
      "metadata": {
        "id": "5YuyZV3232AW",
        "colab_type": "code",
        "colab": {}
      },
      "source": [
        "fn_out = fn_dir + \"boc_lite_2012_2019_top9_hscode.csv\"\n",
        "df_out.to_csv(fn_out, encoding = \"ISO-8859-1\")"
      ],
      "execution_count": 13,
      "outputs": []
    },
    {
      "cell_type": "markdown",
      "metadata": {
        "id": "OcQ7lISJ94xf",
        "colab_type": "text"
      },
      "source": [
        "*Test and time loading of consolidated file*"
      ]
    },
    {
      "cell_type": "code",
      "metadata": {
        "id": "t5asQ70G99Y2",
        "colab_type": "code",
        "colab": {
          "base_uri": "https://localhost:8080/",
          "height": 68
        },
        "outputId": "9c30d1d7-7979-436a-ce30-5c8dc75549ea"
      },
      "source": [
        "%time df = pd.read_csv(fn_out, encoding = \"ISO-8859-1\")"
      ],
      "execution_count": 15,
      "outputs": [
        {
          "output_type": "stream",
          "text": [
            "<string>:2: DtypeWarning: Columns (4,5,29,30) have mixed types.Specify dtype option on import or set low_memory=False.\n"
          ],
          "name": "stderr"
        },
        {
          "output_type": "stream",
          "text": [
            "CPU times: user 4.68 s, sys: 245 ms, total: 4.92 s\n",
            "Wall time: 5.15 s\n"
          ],
          "name": "stdout"
        }
      ]
    },
    {
      "cell_type": "code",
      "metadata": {
        "id": "26HLNNpp-RYL",
        "colab_type": "code",
        "colab": {}
      },
      "source": [
        ""
      ],
      "execution_count": null,
      "outputs": []
    }
  ]
}