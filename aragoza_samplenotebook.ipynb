# random code from ian
from matplotlib import pyplot as plt
import numpy as np

fig, ax = plt.subplots()
random_data = []

for i in range(100000):
    random_data.append(np.random.randint(1,101))

plt.style.use('ggplot')
plt.hist(random_data, bins = 100, label = 'Random Numbers from 1 to 100')
plt.title('Basic ass Graph')
plt.xlabel('Value from 1 to 100')
plt.ylabel('Frequency')
plt.legend()
plt.show()